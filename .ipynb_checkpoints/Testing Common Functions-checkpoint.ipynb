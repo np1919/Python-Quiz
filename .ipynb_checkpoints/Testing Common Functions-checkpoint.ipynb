{
 "cells": [
  {
   "cell_type": "code",
   "execution_count": 1,
   "id": "80d8118a",
   "metadata": {},
   "outputs": [],
   "source": [
    "from src.common_functions import CommonFunctions\n",
    "from src.nested.python_quiz import PythonQuiz"
   ]
  },
  {
   "cell_type": "code",
   "execution_count": 2,
   "id": "26009b3a",
   "metadata": {},
   "outputs": [],
   "source": [
    "a = CommonFunctions()"
   ]
  },
  {
   "cell_type": "code",
   "execution_count": 8,
   "id": "f8da571a",
   "metadata": {},
   "outputs": [
    {
     "data": {
      "text/plain": [
       "True"
      ]
     },
     "execution_count": 8,
     "metadata": {},
     "output_type": "execute_result"
    }
   ],
   "source": [
    "a.make_bool()"
   ]
  },
  {
   "cell_type": "code",
   "execution_count": 9,
   "id": "3fcc258b",
   "metadata": {},
   "outputs": [
    {
     "data": {
      "text/plain": [
       "'Lri'"
      ]
     },
     "execution_count": 9,
     "metadata": {},
     "output_type": "execute_result"
    }
   ],
   "source": [
    "a.make_str()"
   ]
  },
  {
   "cell_type": "code",
   "execution_count": 11,
   "id": "02981252",
   "metadata": {},
   "outputs": [
    {
     "data": {
      "text/plain": [
       "-5"
      ]
     },
     "execution_count": 11,
     "metadata": {},
     "output_type": "execute_result"
    }
   ],
   "source": [
    "a.make_int()"
   ]
  },
  {
   "cell_type": "code",
   "execution_count": 12,
   "id": "ee640d24",
   "metadata": {},
   "outputs": [
    {
     "data": {
      "text/plain": [
       "-31.1"
      ]
     },
     "execution_count": 12,
     "metadata": {},
     "output_type": "execute_result"
    }
   ],
   "source": [
    "a.make_float()"
   ]
  },
  {
   "cell_type": "code",
   "execution_count": 29,
   "id": "45e50e63",
   "metadata": {},
   "outputs": [
    {
     "data": {
      "text/plain": [
       "(-26.3, -44.04)"
      ]
     },
     "execution_count": 29,
     "metadata": {},
     "output_type": "execute_result"
    }
   ],
   "source": [
    "a.make_tuple()"
   ]
  },
  {
   "cell_type": "code",
   "execution_count": 3,
   "id": "3a61e5db",
   "metadata": {},
   "outputs": [
    {
     "data": {
      "text/plain": [
       "14"
      ]
     },
     "execution_count": 3,
     "metadata": {},
     "output_type": "execute_result"
    }
   ],
   "source": [
    "a.simple_value() # defaults to making a random int, str or float"
   ]
  },
  {
   "cell_type": "code",
   "execution_count": 5,
   "id": "d4defa71",
   "metadata": {},
   "outputs": [
    {
     "data": {
      "text/plain": [
       "[7.32, False]"
      ]
     },
     "execution_count": 5,
     "metadata": {},
     "output_type": "execute_result"
    }
   ],
   "source": [
    "a.simple_list()"
   ]
  },
  {
   "cell_type": "code",
   "execution_count": 6,
   "id": "39af39a3",
   "metadata": {},
   "outputs": [
    {
     "data": {
      "text/plain": [
       "{-7.41, 130}"
      ]
     },
     "execution_count": 6,
     "metadata": {},
     "output_type": "execute_result"
    }
   ],
   "source": [
    "a.simple_set()"
   ]
  },
  {
   "cell_type": "code",
   "execution_count": 7,
   "id": "4bf90723",
   "metadata": {},
   "outputs": [
    {
     "data": {
      "text/plain": [
       "{-29.94: 'minyield', -84.47: 5.71, -98: 43}"
      ]
     },
     "execution_count": 7,
     "metadata": {},
     "output_type": "execute_result"
    }
   ],
   "source": [
    "a.simple_dict()"
   ]
  },
  {
   "cell_type": "code",
   "execution_count": null,
   "id": "cc6f0122",
   "metadata": {},
   "outputs": [],
   "source": []
  }
 ],
 "metadata": {
  "kernelspec": {
   "display_name": "Python 3 (ipykernel)",
   "language": "python",
   "name": "python3"
  },
  "language_info": {
   "codemirror_mode": {
    "name": "ipython",
    "version": 3
   },
   "file_extension": ".py",
   "mimetype": "text/x-python",
   "name": "python",
   "nbconvert_exporter": "python",
   "pygments_lexer": "ipython3",
   "version": "3.9.7"
  },
  "toc": {
   "base_numbering": 1,
   "nav_menu": {},
   "number_sections": true,
   "sideBar": true,
   "skip_h1_title": false,
   "title_cell": "Table of Contents",
   "title_sidebar": "Contents",
   "toc_cell": false,
   "toc_position": {},
   "toc_section_display": true,
   "toc_window_display": false
  },
  "varInspector": {
   "cols": {
    "lenName": 16,
    "lenType": 16,
    "lenVar": 40
   },
   "kernels_config": {
    "python": {
     "delete_cmd_postfix": "",
     "delete_cmd_prefix": "del ",
     "library": "var_list.py",
     "varRefreshCmd": "print(var_dic_list())"
    },
    "r": {
     "delete_cmd_postfix": ") ",
     "delete_cmd_prefix": "rm(",
     "library": "var_list.r",
     "varRefreshCmd": "cat(var_dic_list()) "
    }
   },
   "types_to_exclude": [
    "module",
    "function",
    "builtin_function_or_method",
    "instance",
    "_Feature"
   ],
   "window_display": false
  }
 },
 "nbformat": 4,
 "nbformat_minor": 5
}
