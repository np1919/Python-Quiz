{
 "cells": [
  {
   "cell_type": "code",
   "execution_count": 1,
   "id": "be4e2575",
   "metadata": {},
   "outputs": [],
   "source": [
    "from src.nested.python_quiz2 import PQLevelTwo\n",
    "\n",
    "a = PQLevelTwo()\n",
    "\n",
    "#a.generate_multiple_choice(str, 'key')"
   ]
  },
  {
   "cell_type": "code",
   "execution_count": 2,
   "id": "c5866201",
   "metadata": {},
   "outputs": [
    {
     "name": "stdout",
     "output_type": "stream",
     "text": [
      "Pick a Game:\n",
      "{'a': 'Guess the Output Type',\n",
      " 'b': 'Input code to find out the type',\n",
      " 'c': 'Simple Multiple Choice',\n",
      " 'd': 'Guess the len()',\n",
      " 'e': 'Guess the index',\n",
      " 'f': 'Complex Multiple Choice',\n",
      " 'g': 'Guess the index (nested lists)',\n",
      " 'h': 'Nested `dict` indexing practice'}\n",
      "a\n",
      "[37.07, 90]\n",
      "Enter the type.__name__ attribute of the object above: list\n",
      "'**** You Win ****!'\n",
      "[37.07, 90] is a <class 'list'>. You picked <class 'list'>\n",
      "{25.77: 'Luriq', -15: -10.18}\n",
      "Enter the type.__name__ attribute of the object above: dict\n",
      "'**** You Win ****!'\n",
      "{25.77: 'Luriq', -15: -10.18} is a <class 'dict'>. You picked <class 'dict'>\n",
      "(5,)\n",
      "Enter the type.__name__ attribute of the object above: tuple\n",
      "'**** You Win ****!'\n",
      "(5,) is a <class 'tuple'>. You picked <class 'tuple'>\n",
      "{'M', -73}\n",
      "Enter the type.__name__ attribute of the object above: set\n",
      "'**** You Win ****!'\n",
      "{'M', -73} is a <class 'set'>. You picked <class 'set'>\n",
      "-56.96\n",
      "Enter the type.__name__ attribute of the object above: quit\n",
      "Pick a Game:\n",
      "{'a': 'Guess the Output Type',\n",
      " 'b': 'Input code to find out the type',\n",
      " 'c': 'Simple Multiple Choice',\n",
      " 'd': 'Guess the len()',\n",
      " 'e': 'Guess the index',\n",
      " 'f': 'Complex Multiple Choice',\n",
      " 'g': 'Guess the index (nested lists)',\n",
      " 'h': 'Nested `dict` indexing practice'}\n",
      "quit\n",
      "Exiting. You got 4 right, out of 4 tries. Thats 100.0%!\n"
     ]
    }
   ],
   "source": [
    "a.start_menu()"
   ]
  },
  {
   "cell_type": "markdown",
   "id": "e92987da",
   "metadata": {},
   "source": [
    "# Operators with ints"
   ]
  },
  {
   "cell_type": "markdown",
   "id": "c6a764bf",
   "metadata": {},
   "source": [
    "Sometimes Python can be very confusing at first, because of how operators ( + *  / - = )  perform differently when comparing or assessing different data types or objects. \n",
    "\n",
    "Moreover, Pandas sometimes breaks the base python 'conventions', which can be extremely frustrating when you're just getting started.  For example, some Pandas operations can perform highly optimized _vectorized_ operations across a dataframe or down it's columns, which sometimes use these classic operator signs (on the pandas objects).\n",
    "\n",
    "Some of the notation for indexing and slicing in Pandas is similar, but not exactly the same.\n",
    "Knowing whether you're currently returning a Series or a DataFrame can complicate things, and many packages may require you to convert numpy or pandas arrays/series back into list type before a given package may work.\n",
    "\n",
    "For all these reasons, it's essential to have a solid understanding of base Python data types before you venture forth.\n",
    "\n",
    "\n",
    "advanced notes: The way these operators 'operate' on a class be controlled by the writer of the class, by defining equivalency class methods, like __eq__, __gt__, __lt__, greater than/lesser than, etc.\n"
   ]
  },
  {
   "cell_type": "code",
   "execution_count": 71,
   "id": "2f791ef9",
   "metadata": {},
   "outputs": [],
   "source": [
    "a = 1 / 2\n",
    "b = 1 // 2\n",
    "c = 1 * 2\n",
    "d = 1 + 2\n",
    "e = 1 % 2"
   ]
  },
  {
   "cell_type": "code",
   "execution_count": 72,
   "id": "9083b585",
   "metadata": {},
   "outputs": [],
   "source": [
    "ops = ['/','//','*','+','-','%', ]"
   ]
  },
  {
   "cell_type": "code",
   "execution_count": 73,
   "id": "47526231",
   "metadata": {},
   "outputs": [],
   "source": [
    "definitions = ['division', 'floor division', 'multiplication', 'addition', 'subtraction', 'modulo']"
   ]
  },
  {
   "cell_type": "code",
   "execution_count": 74,
   "id": "5779af57",
   "metadata": {},
   "outputs": [
    {
     "data": {
      "text/plain": [
       "{'/': 'division',\n",
       " '//': 'floor division',\n",
       " '*': 'multiplication',\n",
       " '+': 'addition',\n",
       " '-': 'subtraction',\n",
       " '%': 'modulo'}"
      ]
     },
     "execution_count": 74,
     "metadata": {},
     "output_type": "execute_result"
    }
   ],
   "source": [
    "dict(zip(ops, definitions))"
   ]
  },
  {
   "cell_type": "code",
   "execution_count": 75,
   "id": "7c82d8bf",
   "metadata": {},
   "outputs": [
    {
     "data": {
      "text/plain": [
       "(0.5, 0, 2, 3, 1)"
      ]
     },
     "execution_count": 75,
     "metadata": {},
     "output_type": "execute_result"
    }
   ],
   "source": [
    "a,b,c,d,e # warning: returns a tuple, in in this notebook.\n",
    "\n",
    "# the line above is nonsensical in the python interpreter."
   ]
  },
  {
   "cell_type": "code",
   "execution_count": 79,
   "id": "c7446c54",
   "metadata": {
    "scrolled": true
   },
   "outputs": [
    {
     "data": {
      "text/plain": [
       "[0, 0.5, 1, 2, 3]"
      ]
     },
     "execution_count": 79,
     "metadata": {},
     "output_type": "execute_result"
    }
   ],
   "source": [
    "sorted([a,b,c,d,e]) \n",
    "\n",
    "# sorts ascending based on integer __eq__ definitions (im sure its deeper than that)\n",
    "\n",
    "# returns a list of numeric values"
   ]
  },
  {
   "cell_type": "code",
   "execution_count": 77,
   "id": "a2e5101f",
   "metadata": {},
   "outputs": [
    {
     "data": {
      "text/plain": [
       "[(1, 0.5), (2, 0), (3, 2), (4, 3), (5, 1)]"
      ]
     },
     "execution_count": 77,
     "metadata": {},
     "output_type": "execute_result"
    }
   ],
   "source": [
    "list(zip([1,2,3,4,5],[a,b,c,d,e]))\n",
    "\n"
   ]
  },
  {
   "cell_type": "code",
   "execution_count": 78,
   "id": "fe8a86b4",
   "metadata": {},
   "outputs": [
    {
     "data": {
      "text/plain": [
       "[(1, 0.5), (2, 0), (3, 2), (4, 3), (5, 1)]"
      ]
     },
     "execution_count": 78,
     "metadata": {},
     "output_type": "execute_result"
    }
   ],
   "source": [
    "list(enumerate([a,b,c,d,e]\n",
    "               , start=1))\n",
    "\n",
    "# "
   ]
  },
  {
   "cell_type": "markdown",
   "id": "ec6f5a61",
   "metadata": {},
   "source": [
    "These are both generators, for reasons. We have to unpack them using a list. It's a pain at first.\n",
    "\n",
    "NOTE that GENERATOR INDEXING ALWAYS STARTS AT 0, for range; enumerate, etc.\n",
    "\n",
    "In the above cell, I was simply showing that there is a workaround built-in to the enumerate class."
   ]
  },
  {
   "cell_type": "code",
   "execution_count": 62,
   "id": "875b71a0",
   "metadata": {
    "scrolled": true
   },
   "outputs": [
    {
     "data": {
      "text/plain": [
       "[(0.5, 'a'), (0, 'b'), (2, 'c'), (3, 'd'), (1, 'e')]"
      ]
     },
     "execution_count": 62,
     "metadata": {},
     "output_type": "execute_result"
    }
   ],
   "source": [
    "list(zip([a,b,c,d,e], ['a','b','c','d','e']))"
   ]
  },
  {
   "cell_type": "code",
   "execution_count": 63,
   "id": "61c6a37d",
   "metadata": {},
   "outputs": [
    {
     "data": {
      "text/plain": [
       "(0, 0.5, 1, 2, 3)"
      ]
     },
     "execution_count": 63,
     "metadata": {},
     "output_type": "execute_result"
    }
   ],
   "source": [
    "b,a,e,c,d "
   ]
  },
  {
   "cell_type": "code",
   "execution_count": 64,
   "id": "be44d630",
   "metadata": {},
   "outputs": [
    {
     "data": {
      "text/plain": [
       "['a', 'b', 'c', 'd', 'e']"
      ]
     },
     "execution_count": 64,
     "metadata": {},
     "output_type": "execute_result"
    }
   ],
   "source": [
    "sorted(['b','a','e','c','d']) # "
   ]
  },
  {
   "cell_type": "markdown",
   "id": "621f39fb",
   "metadata": {},
   "source": [
    "# string multiplication and addition"
   ]
  },
  {
   "cell_type": "markdown",
   "id": "4dc92b7c",
   "metadata": {},
   "source": [
    "When we perform these variable assignments, we're operating on immutable objects -- numbers. The value of `A`, just like the value of `1`, will never change. We need them to stay the same so that we can talk to other computers.\n",
    "\n"
   ]
  },
  {
   "cell_type": "code",
   "execution_count": 6,
   "id": "76fd0d6c",
   "metadata": {},
   "outputs": [],
   "source": [
    "lst1 = [1,2,3]\n",
    "lst2 = ['a','b','c']\n",
    "\n",
    "lst3 = [4,5,6]\n",
    "lst4 = ['d','e','f']"
   ]
  },
  {
   "cell_type": "code",
   "execution_count": 92,
   "id": "d40a622c",
   "metadata": {},
   "outputs": [
    {
     "data": {
      "text/plain": [
       "['a', 'bb', 'ccc']"
      ]
     },
     "execution_count": 92,
     "metadata": {},
     "output_type": "execute_result"
    }
   ],
   "source": [
    "[x*y for (x, y) in zip(lst1,lst2)]"
   ]
  },
  {
   "cell_type": "code",
   "execution_count": 93,
   "id": "443ffac1",
   "metadata": {},
   "outputs": [
    {
     "data": {
      "text/plain": [
       "[6, 10, 12]"
      ]
     },
     "execution_count": 93,
     "metadata": {},
     "output_type": "execute_result"
    }
   ],
   "source": [
    "[x*y for (x, y) in zip(lst1,lst3)]"
   ]
  },
  {
   "cell_type": "code",
   "execution_count": 94,
   "id": "28394272",
   "metadata": {},
   "outputs": [
    {
     "data": {
      "text/plain": [
       "['d', 'ee', 'fff']"
      ]
     },
     "execution_count": 94,
     "metadata": {},
     "output_type": "execute_result"
    }
   ],
   "source": [
    "[x*y for (x, y) in zip(lst1,lst4)]"
   ]
  },
  {
   "cell_type": "code",
   "execution_count": 97,
   "id": "253afddf",
   "metadata": {},
   "outputs": [
    {
     "data": {
      "text/plain": [
       "['aaaaaa', 'bbbbb', 'cccc']"
      ]
     },
     "execution_count": 97,
     "metadata": {},
     "output_type": "execute_result"
    }
   ],
   "source": [
    "[x*y for (x, y) in zip(lst2,lst3)]"
   ]
  },
  {
   "cell_type": "code",
   "execution_count": 22,
   "id": "71f4bdfb",
   "metadata": {},
   "outputs": [
    {
     "data": {
      "text/plain": [
       "'1 2 3 a b c 4 5 6 d e f'"
      ]
     },
     "execution_count": 22,
     "metadata": {},
     "output_type": "execute_result"
    }
   ],
   "source": [
    "\" \".join([str(x) for x in lst1+lst2+lst3+lst4])"
   ]
  },
  {
   "cell_type": "code",
   "execution_count": 18,
   "id": "27ede7d0",
   "metadata": {},
   "outputs": [
    {
     "data": {
      "text/plain": [
       "[1, 2, 3, 1, 2, 3, 1, 2, 3]"
      ]
     },
     "execution_count": 18,
     "metadata": {},
     "output_type": "execute_result"
    }
   ],
   "source": [
    "lst1 * 3"
   ]
  },
  {
   "cell_type": "code",
   "execution_count": 7,
   "id": "dbe32385",
   "metadata": {},
   "outputs": [
    {
     "data": {
      "text/plain": [
       "[1, 2, 3, 'a', 'b', 'c']"
      ]
     },
     "execution_count": 7,
     "metadata": {},
     "output_type": "execute_result"
    }
   ],
   "source": [
    "lst1 + lst2"
   ]
  },
  {
   "cell_type": "code",
   "execution_count": 13,
   "id": "d82be5b7",
   "metadata": {},
   "outputs": [
    {
     "data": {
      "text/plain": [
       "[[1, 2, 3], [1, 2, 3], [1, 2, 3]]"
      ]
     },
     "execution_count": 13,
     "metadata": {},
     "output_type": "execute_result"
    }
   ],
   "source": [
    "output = []\n",
    "for y in lst2:\n",
    "    inner = []\n",
    "    for x in lst1:\n",
    "        inner.append(x)\n",
    "    output.append(inner)\n",
    "output"
   ]
  },
  {
   "cell_type": "code",
   "execution_count": 14,
   "id": "75ce4a47",
   "metadata": {},
   "outputs": [
    {
     "data": {
      "text/plain": [
       "[[1, 2, 3], [1, 2, 3], [1, 2, 3]]"
      ]
     },
     "execution_count": 14,
     "metadata": {},
     "output_type": "execute_result"
    }
   ],
   "source": [
    "[[x for x in lst1] for y in range(3)]"
   ]
  },
  {
   "cell_type": "code",
   "execution_count": 99,
   "id": "bd19d10b",
   "metadata": {},
   "outputs": [
    {
     "data": {
      "text/plain": [
       "[[1, 2, 3], [1, 2, 3], [1, 2, 3]]"
      ]
     },
     "execution_count": 99,
     "metadata": {},
     "output_type": "execute_result"
    }
   ],
   "source": [
    "[[x for x in lst1] for y in lst2]"
   ]
  },
  {
   "cell_type": "code",
   "execution_count": 10,
   "id": "63959989",
   "metadata": {},
   "outputs": [
    {
     "data": {
      "text/plain": [
       "[(1, 'a'), (2, 'b'), (3, 'c'), (4, 'd'), (5, 'e'), (6, 'f')]"
      ]
     },
     "execution_count": 10,
     "metadata": {},
     "output_type": "execute_result"
    }
   ],
   "source": [
    "list(zip(lst1+lst3, lst2+lst4)) # a single list, of tuples."
   ]
  },
  {
   "cell_type": "code",
   "execution_count": 25,
   "id": "fb8d0bda",
   "metadata": {},
   "outputs": [
    {
     "data": {
      "text/plain": [
       "[(1, 'a', 4, 'd'), (2, 'b', 5, 'e'), (3, 'c', 6, 'f')]"
      ]
     },
     "execution_count": 25,
     "metadata": {},
     "output_type": "execute_result"
    }
   ],
   "source": [
    "list(zip(lst1, lst2, lst3, lst4)) # a single list, of tuples."
   ]
  },
  {
   "cell_type": "code",
   "execution_count": null,
   "id": "d7490db3",
   "metadata": {},
   "outputs": [],
   "source": []
  }
 ],
 "metadata": {
  "kernelspec": {
   "display_name": "Python 3 (ipykernel)",
   "language": "python",
   "name": "python3"
  },
  "language_info": {
   "codemirror_mode": {
    "name": "ipython",
    "version": 3
   },
   "file_extension": ".py",
   "mimetype": "text/x-python",
   "name": "python",
   "nbconvert_exporter": "python",
   "pygments_lexer": "ipython3",
   "version": "3.9.7"
  },
  "toc": {
   "base_numbering": 1,
   "nav_menu": {},
   "number_sections": true,
   "sideBar": true,
   "skip_h1_title": false,
   "title_cell": "Table of Contents",
   "title_sidebar": "Contents",
   "toc_cell": false,
   "toc_position": {},
   "toc_section_display": true,
   "toc_window_display": false
  },
  "varInspector": {
   "cols": {
    "lenName": 16,
    "lenType": 16,
    "lenVar": 40
   },
   "kernels_config": {
    "python": {
     "delete_cmd_postfix": "",
     "delete_cmd_prefix": "del ",
     "library": "var_list.py",
     "varRefreshCmd": "print(var_dic_list())"
    },
    "r": {
     "delete_cmd_postfix": ") ",
     "delete_cmd_prefix": "rm(",
     "library": "var_list.r",
     "varRefreshCmd": "cat(var_dic_list()) "
    }
   },
   "types_to_exclude": [
    "module",
    "function",
    "builtin_function_or_method",
    "instance",
    "_Feature"
   ],
   "window_display": false
  }
 },
 "nbformat": 4,
 "nbformat_minor": 5
}
