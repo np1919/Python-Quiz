{
 "cells": [
  {
   "cell_type": "code",
   "execution_count": 1,
   "id": "c288b342",
   "metadata": {},
   "outputs": [],
   "source": [
    "from src.nested.python_quiz2 import PQLevelTwo"
   ]
  },
  {
   "cell_type": "code",
   "execution_count": 2,
   "id": "dfcacce3",
   "metadata": {},
   "outputs": [],
   "source": [
    "a = PQLevelTwo()"
   ]
  },
  {
   "cell_type": "code",
   "execution_count": 11,
   "id": "36f7f2a8",
   "metadata": {},
   "outputs": [
    {
     "data": {
      "text/plain": [
       "([['Yr', -114, 29, -11.25],\n",
       "  [(-51, 7), -57, -24.52, 'del'],\n",
       "  [28, 56.92, -11, ('Yuyfhe',)],\n",
       "  [(-36.45,), 'True', 20.62, 'Qfuxso']],\n",
       " (1, 3),\n",
       " 'del')"
      ]
     },
     "execution_count": 11,
     "metadata": {},
     "output_type": "execute_result"
    }
   ],
   "source": [
    "a.nested_list_indexing()"
   ]
  },
  {
   "cell_type": "code",
   "execution_count": 3,
   "id": "2133ff0e",
   "metadata": {},
   "outputs": [
    {
     "name": "stdout",
     "output_type": "stream",
     "text": [
      "[['Ztk', 26.1, -12.93, (-1,)],\n",
      " [-5.97, 2, 'or', (-52.69, 14)],\n",
      " ['Stqcam', -43, 'sum', 'except'],\n",
      " [(-40.47, 'Gv'), -4.73, 'enumerate', 'Wpc']]\n",
      "What is the 'row and column' of sum in the 2-D matrix above? 2,2\n",
      "You Win!\n",
      "[[(-68,), 'S', 2, 'return'],\n",
      " [8.48, 'sum', (24,), -17.54],\n",
      " [-74.8, (-20,), -33, 13.07],\n",
      " [(-1,), -74, 16.63, (-61.58, 'elif')]]\n",
      "What is the 'row and column' of return in the 2-D matrix above? 0,3\n",
      "You Win!\n",
      "[[66.63, 'while', -51, -7.01],\n",
      " [78.37, (22.48,), -46.64, -28.11],\n",
      " [('while',), 'Lnesv', -6, 'False'],\n",
      " [-3, 'continue', -23, -8]]\n",
      "What is the 'row and column' of Lnesv in the 2-D matrix above? quit\n"
     ]
    }
   ],
   "source": [
    "a.guess_the_index_nested()"
   ]
  },
  {
   "cell_type": "code",
   "execution_count": 9,
   "id": "6c6ea01d",
   "metadata": {},
   "outputs": [
    {
     "data": {
      "text/plain": [
       "({-36.92: 'Rnji', -30: -47, 39.96: 'Nh', 21.51: 'Awpyn'}, 39.96, 'Nh')"
      ]
     },
     "execution_count": 9,
     "metadata": {},
     "output_type": "execute_result"
    }
   ],
   "source": [
    "a.keys_and_values()"
   ]
  },
  {
   "cell_type": "code",
   "execution_count": 10,
   "id": "566daa60",
   "metadata": {},
   "outputs": [
    {
     "data": {
      "text/plain": [
       "({0: {-24.52: -30, 'False': 'Fst', 'Teatf': 'enumerate', 21: -27.36},\n",
       "  1: {'Tkkp': 8, -36: 16.47, -18: 32.07, -64: 44.2},\n",
       "  2: {152.55: 30, -92.09: 100, -58.32: -27.98, -10: 'Vpljl'},\n",
       "  3: {-32.19: -19.18, 25: -17.27, 'Dz': 29.86, 28.11: 'C'}},\n",
       " 2,\n",
       " -10,\n",
       " 'Vpljl')"
      ]
     },
     "execution_count": 10,
     "metadata": {},
     "output_type": "execute_result"
    }
   ],
   "source": [
    "a.keys_and_values_nested()"
   ]
  },
  {
   "cell_type": "code",
   "execution_count": 4,
   "id": "c4a11b6c",
   "metadata": {},
   "outputs": [
    {
     "name": "stdout",
     "output_type": "stream",
     "text": [
      "{0: {-11.2: 1, 14.89: 101, 33.23: 'Oqgmydh', 104: 1.0},\n",
      " 1: {35.98: 'Xej', 93: 92, 'Kg': 'or', 'for': 'if'},\n",
      " 2: {-21: 26.65, 8: 'Opxyfl', 'elif': 43.65, 'form': -0.54},\n",
      " 3: {-75.47: -6.83, -5.86: 'try', 65.83: 16.62, 'Wjvzbx': 'Cpzdfs'}}\n",
      "If this nested dictionary is called `base`, what is the correct way to index for value `or`? base[1]['Kg]\n",
      "{0: {5: -58.38, 82: 67.92, 'Xhcmqfm': 'as', 'if': 'del'},\n",
      " 1: {-10: 'except', 45: 28, 'Aby': 'elif', 'Kzji': 76.68},\n",
      " 2: {32.34: 55.41, 'Rfwbl': 'raise', 'assert': 'Gblyuit', 'def': 47.47},\n",
      " 3: {40: -72, 94.96: -74.84, 'Tz': 30.99}}\n",
      "If this nested dictionary is called `base`, what is the correct way to index for value `except`? base[1][-10]\n",
      "You Win!\n",
      "{0: {-63: 'try', -56.69: 'return', 56.68: 22, 59.61: 79.91},\n",
      " 1: {-49: 'zip', -7: 'enumerate', 22: -39.06, 37: -4},\n",
      " 2: {-59: 'raise', 14: 'W', 16.73: -29, 'all': 'Lixxd'},\n",
      " 3: {-77: 'is', -31: 68, -9: -19, 'minyield': 'A'}}\n",
      "If this nested dictionary is called `base`, what is the correct way to index for value `-39.06`? base[1][22]\n",
      "You Win!\n",
      "{0: {15: 'Dotxflq', 37.18: -39, 43: 'Xwboyk', 'as': 'finally'},\n",
      " 1: {-98.38: 'Hhsm', -21: 11, -15: -29, 'Iuuj': 'import'},\n",
      " 2: {-54.42: 19, 0: 11.87, 'Bynqsx': -56, 'P': 31.22},\n",
      " 3: {4.95: 30, 28.83: 'Dsdo', 32.4: 25.45, 'Vm': 'break'}}\n",
      "If this nested dictionary is called `base`, what is the correct way to index for value `11.87`? quit\n"
     ]
    }
   ],
   "source": [
    "a.nested_dict_indexing()"
   ]
  },
  {
   "cell_type": "code",
   "execution_count": null,
   "id": "655cab14",
   "metadata": {},
   "outputs": [],
   "source": []
  }
 ],
 "metadata": {
  "kernelspec": {
   "display_name": "Python 3 (ipykernel)",
   "language": "python",
   "name": "python3"
  },
  "language_info": {
   "codemirror_mode": {
    "name": "ipython",
    "version": 3
   },
   "file_extension": ".py",
   "mimetype": "text/x-python",
   "name": "python",
   "nbconvert_exporter": "python",
   "pygments_lexer": "ipython3",
   "version": "3.9.7"
  },
  "toc": {
   "base_numbering": 1,
   "nav_menu": {},
   "number_sections": true,
   "sideBar": true,
   "skip_h1_title": false,
   "title_cell": "Table of Contents",
   "title_sidebar": "Contents",
   "toc_cell": false,
   "toc_position": {},
   "toc_section_display": true,
   "toc_window_display": false
  },
  "varInspector": {
   "cols": {
    "lenName": 16,
    "lenType": 16,
    "lenVar": 40
   },
   "kernels_config": {
    "python": {
     "delete_cmd_postfix": "",
     "delete_cmd_prefix": "del ",
     "library": "var_list.py",
     "varRefreshCmd": "print(var_dic_list())"
    },
    "r": {
     "delete_cmd_postfix": ") ",
     "delete_cmd_prefix": "rm(",
     "library": "var_list.r",
     "varRefreshCmd": "cat(var_dic_list()) "
    }
   },
   "types_to_exclude": [
    "module",
    "function",
    "builtin_function_or_method",
    "instance",
    "_Feature"
   ],
   "window_display": false
  }
 },
 "nbformat": 4,
 "nbformat_minor": 5
}
