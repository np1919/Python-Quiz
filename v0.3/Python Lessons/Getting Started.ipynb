{
 "cells": [
  {
   "cell_type": "markdown",
   "id": "6d640340",
   "metadata": {},
   "source": [
    "# Intro\n",
    "\n",
    "You may have heard that Python is an Object Oriented Programming language. But do we really care? As far as I understand, it uses 'pointers' to refer to data stored in bitcode, instead of having it all in memory at once. That means it uses less memory while it's working, but runs more slowly when accessing that data from lower-level storage. As you go along, and depending on your interest, you may learn more about how Python is implemented. For our use case, we want to know how to *work with database connections, tabular data, algorithms, file input/output, etc. in Python*.\n",
    "\n",
    "We're going to get to pandas, the primary 'panel data analysis' tool in Python, but first it's important to have at least a basic understanding of the fundamental Python data types.\n",
    "\n",
    "When people talk about 'everything is an object in python', what they forget to say is that 'all those fancy objects basically just return basic data types'. To understand how Python works, just focus on what values are being returned by different variables, and functions.  Yes, it's true that new types of things have different ways of behaving; but very, very often you will be able to find your bearings if you simply convert the data using these built-in basic data type \"class constructors\".\n",
    "\n",
    "## Built-In Data Types in Python\n",
    "\n",
    "The basic Python data types are: bool, int, float, str, tuple, set, list, dict\n",
    "Entering the above terms (without quotation marks) in any Python interpreter will reference the *class definition*, or 'class type' objects. str isn't itself a string, it's a type. Most types (even in pandas) support 'class construction', ie. str('hello world') returns a string --> by 'constructing it' using the class type (\\_\\_init\\_\\_) as a function. Another example would be calling pandas.DataFrame(and passing data, index, columns as arguments...).\n",
    "\n",
    "For simplicity, Python syntax supports lazy type definitions. \n",
    "\n",
    "## Lazy Type Declaration\n",
    "\n",
    "Using comma-separated values and square brackets will create a \\[list,...\\]; using ('parentheses',...) a tuple. \n",
    "\n",
    "Numeric types do not need to be declared specially, 1 (or 1.0) will do. \n",
    "\n",
    "Equally, '\"strings\"' (with proper quotation mark usage) will be recognized inherently as strings. \n",
    "\n",
    "Both sets and dictionaries use curly brackets to denote their (lazy) creation. \n",
    "Note that sets are composed of {unique, singular, comma-separated,...} values, while dictionaries are composed of {key:value,...} items (mappings).\n",
    "\n",
    "One thing to note when looking at these types is that some of them are singular values, and some of them are data containers. \n",
    "\n",
    "The functions that we have available to us (that are part of each type's class definition) when we're working with data of a particular type() will depend on what the data type is for, but most of the stuff we need to do has been implemented, in base Python. \n",
    "\n",
    "\n",
    "## Explicit Type Declaration (class constructors)\n",
    "\n",
    "In order to explicitly construct our data as one of these types, we simply call the class like a 'fancy function', and it will do its best to convert the data we pass to that type. \n",
    "\n",
    "Ironically, in a lot of cases we have to *enter the data into the constructor like it would eventually appear*, ie. lst = list([1,2,3,4]), or str(\"hello world\"). We use square brackets or quotation marks as if the thing we're making a list out of was already a list, or the string was already a string. Seems dumb, right? \n",
    "\n",
    "You can explicitly declare your data types, or simply use the short-hand notation (when working with built-in Python objects), it's up to your style and choice. One thing to note is that depending on how data from third-party packages is sort of manifested, the class constructors may become much more useful to 'simplify' your workflow, at least while you're still learning, by allowing you to reduce weird objects down to the parts you need --> single values, or containers like list and dict. \n",
    "\n",
    "## Basic Data Types and Data Containers\n",
    "\n",
    "### Basic data types:\n",
    "Almost all the data we work with will have values which can be broken down into these 4 basic parts.\n",
    "\n",
    "bool : boolean value, either literal True or literal False\n",
    "\n",
    "int : an integer, the literal number\n",
    "\n",
    "float : a floating point number, the literal number.\n",
    "\n",
    "str : a string of characters; enclosed by quotation marks. Note that triple quotes (6 total) allows you to quote across multiple lines (but introduces \\n), while prefixing the quotations with 'f' or 'r' ie. 'fr\"string\"' allows you to return a formatted or raw string. More on this later.\n",
    "\n",
    "Note: base Python supports \\<no value\\> statements by using the literal term None.\n",
    "\n",
    "### Data containers:\n",
    "\n",
    "tuple : tuples are a way for us to group multiple objects or statements (therefore the data they represent) into a single, unchangeable value.\n",
    "\n",
    "list : lists are the main way we iterate and act our data. when we want to perform some kind of action with our data, we'll typically be using lists and/or dictionaries, so it's important to have a solid grasp of these two data containers, before we move on to pandas Series and DataFrame types.\n",
    "\n",
    "dict : a mapping of key:value pairings (items). the value can be anything you like, but the keys have to be immutable data; the value of the data cannot be subject to change for it to be used as a key in a dictionary. You still have a lot of options: booleans, integers, floats, strings, tuples, and even some data types themselves can be used as keys to a dictionary. Again, the value can be anything you like (even another dictionary...)."
   ]
  },
  {
   "cell_type": "markdown",
   "id": "cde47ddc",
   "metadata": {},
   "source": [
    "# Python Installation"
   ]
  },
  {
   "cell_type": "markdown",
   "id": "f30dc330",
   "metadata": {},
   "source": [
    "# Running Python in a .ipynb file versus a .py file"
   ]
  },
  {
   "cell_type": "code",
   "execution_count": null,
   "id": "d2d9bbb5",
   "metadata": {},
   "outputs": [],
   "source": [
    "# "
   ]
  }
 ],
 "metadata": {
  "kernelspec": {
   "display_name": "Python 3 (ipykernel)",
   "language": "python",
   "name": "python3"
  },
  "language_info": {
   "codemirror_mode": {
    "name": "ipython",
    "version": 3
   },
   "file_extension": ".py",
   "mimetype": "text/x-python",
   "name": "python",
   "nbconvert_exporter": "python",
   "pygments_lexer": "ipython3",
   "version": "3.9.7"
  },
  "toc": {
   "base_numbering": 1,
   "nav_menu": {},
   "number_sections": true,
   "sideBar": true,
   "skip_h1_title": false,
   "title_cell": "Table of Contents",
   "title_sidebar": "Contents",
   "toc_cell": false,
   "toc_position": {},
   "toc_section_display": true,
   "toc_window_display": false
  },
  "varInspector": {
   "cols": {
    "lenName": 16,
    "lenType": 16,
    "lenVar": 40
   },
   "kernels_config": {
    "python": {
     "delete_cmd_postfix": "",
     "delete_cmd_prefix": "del ",
     "library": "var_list.py",
     "varRefreshCmd": "print(var_dic_list())"
    },
    "r": {
     "delete_cmd_postfix": ") ",
     "delete_cmd_prefix": "rm(",
     "library": "var_list.r",
     "varRefreshCmd": "cat(var_dic_list()) "
    }
   },
   "types_to_exclude": [
    "module",
    "function",
    "builtin_function_or_method",
    "instance",
    "_Feature"
   ],
   "window_display": false
  }
 },
 "nbformat": 4,
 "nbformat_minor": 5
}
