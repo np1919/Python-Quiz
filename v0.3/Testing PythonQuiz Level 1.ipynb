{
 "cells": [
  {
   "cell_type": "code",
   "execution_count": 1,
   "id": "f209a91b",
   "metadata": {},
   "outputs": [],
   "source": [
    "from src.python_quiz import PythonQuiz\n",
    "\n",
    "a = PythonQuiz()"
   ]
  },
  {
   "cell_type": "code",
   "execution_count": 2,
   "id": "57c499e3",
   "metadata": {},
   "outputs": [
    {
     "data": {
      "text/plain": [
       "{0: <bound method PythonQuiz.guess_the_output_type of <src.python_quiz.PythonQuiz object at 0x000001C9785F5190>>,\n",
       " 1: <bound method PythonQuiz.input_a_type of <src.python_quiz.PythonQuiz object at 0x000001C9785F5190>>,\n",
       " 2: <bound method PythonQuiz.multiple_choice of <src.python_quiz.PythonQuiz object at 0x000001C9785F5190>>,\n",
       " 3: <bound method PythonQuiz.guess_the_len of <src.python_quiz.PythonQuiz object at 0x000001C9785F5190>>,\n",
       " 4: <bound method PythonQuiz.guess_the_index of <src.python_quiz.PythonQuiz object at 0x000001C9785F5190>>}"
      ]
     },
     "execution_count": 2,
     "metadata": {},
     "output_type": "execute_result"
    }
   ],
   "source": [
    "a.all_games"
   ]
  },
  {
   "cell_type": "code",
   "execution_count": 3,
   "id": "156ccddd",
   "metadata": {},
   "outputs": [
    {
     "data": {
      "text/plain": [
       "[bool, str, int, float, tuple, dict, list, set]"
      ]
     },
     "execution_count": 3,
     "metadata": {},
     "output_type": "execute_result"
    }
   ],
   "source": [
    "a.all_types"
   ]
  },
  {
   "cell_type": "code",
   "execution_count": 4,
   "id": "2e13a63d",
   "metadata": {},
   "outputs": [
    {
     "name": "stdout",
     "output_type": "stream",
     "text": [
      "'K'\n",
      "Enter the type.__name__ attribute of the object above: \n",
      "-152\n",
      "Enter the type.__name__ attribute of the object above: int\n",
      "You win!\n",
      "-152 is a <class 'int'>. You picked int\n",
      "1\n",
      "Enter the type.__name__ attribute of the object above: quit\n",
      "1 is a <class 'int'>. You picked quit\n"
     ]
    }
   ],
   "source": [
    "a.guess_the_output_type()"
   ]
  },
  {
   "cell_type": "code",
   "execution_count": 5,
   "id": "f5418c07",
   "metadata": {},
   "outputs": [
    {
     "name": "stdout",
     "output_type": "stream",
     "text": [
      "False\n",
      "\n",
      "What is the index of e in the above container? Hint: it's a <class 'str'>\n",
      "-1\n",
      "You win!\n",
      "{'break': 'Tpuc', 31: 44.81}\n",
      "\n",
      "What is the index of 44.81 in the above container? Hint: it's a <class 'dict'>\n",
      "31\n",
      "You win!\n",
      "Ee\n",
      "\n",
      "What is the index of E in the above container? Hint: it's a <class 'str'>\n",
      "quit\n"
     ]
    }
   ],
   "source": [
    "a.guess_the_index()"
   ]
  },
  {
   "cell_type": "code",
   "execution_count": 6,
   "id": "7ce8828c",
   "metadata": {},
   "outputs": [
    {
     "name": "stdout",
     "output_type": "stream",
     "text": [
      "What are the types of the elements inside the following list? ['for', -59.28, True, 143.63]\n",
      "\n",
      "('a', ['bool', 'float', 'set', 'list'])\n",
      "('b', ['list', 'tuple', 'dict', 'str'])\n",
      "('c', ['str', 'float', 'bool', 'float'])\n",
      "('d', ['dict', 'set', 'tuple', 'set'])\n",
      "Select your answer: c\n",
      "You win!\n",
      "\n",
      "What are the types of the elements inside the following list? [('Ptmsu', -36.44), 37.64, True, True]\n",
      "\n",
      "('a', ['tuple', 'float', 'bool', 'bool'])\n",
      "('b', ['dict', 'set', 'dict', 'str'])\n",
      "('c', ['int', 'list', 'list', 'set'])\n",
      "('d', ['str', 'set', 'list', 'list'])\n",
      "Select your answer: quit\n"
     ]
    }
   ],
   "source": [
    "a.multiple_choice()"
   ]
  },
  {
   "cell_type": "code",
   "execution_count": 7,
   "id": "0741ff7f",
   "metadata": {},
   "outputs": [
    {
     "name": "stdout",
     "output_type": "stream",
     "text": [
      "'Hwvbdu'\n",
      "What is the len() of the above data container? Hint: it's a <class 'str'> 6\n",
      "You win!\n",
      "\n",
      "'Mmb'\n",
      "What is the len() of the above data container? Hint: it's a <class 'str'> 3\n",
      "You win!\n",
      "\n",
      "{'Aszzeeh', 63.04}\n",
      "What is the len() of the above data container? Hint: it's a <class 'set'> 2\n",
      "You win!\n",
      "\n",
      "{'False', -38, -51, 'Dxhzdwy'}\n",
      "What is the len() of the above data container? Hint: it's a <class 'set'> quit\n"
     ]
    }
   ],
   "source": [
    "a.guess_the_len()"
   ]
  },
  {
   "cell_type": "code",
   "execution_count": 8,
   "id": "508ea29c",
   "metadata": {},
   "outputs": [
    {
     "name": "stdout",
     "output_type": "stream",
     "text": [
      "[102, (47,), False, (24.41,)]\n",
      "\n",
      "What is the index of False in the above container? Hint: it's a <class 'list'>\n",
      "2\n",
      "You win!\n",
      "[-6.23, ('Yth', 3.02)]\n",
      "\n",
      "What is the index of ('Yth', 3.02) in the above container? Hint: it's a <class 'list'>\n",
      "1\n",
      "You win!\n",
      "['Crnewux', -65.6]\n",
      "\n",
      "What is the index of Crnewux in the above container? Hint: it's a <class 'list'>\n",
      "0\n",
      "You win!\n",
      "{'Av': -11.64, 28: -57, -76: 4}\n",
      "\n",
      "What is the index of 4 in the above container? Hint: it's a <class 'dict'>\n",
      "-76\n",
      "You win!\n",
      "[70, ('while', 102.13), (43, -56)]\n",
      "\n",
      "What is the index of ('while', 102.13) in the above container? Hint: it's a <class 'list'>\n",
      "quit\n"
     ]
    }
   ],
   "source": [
    "a.guess_the_index()"
   ]
  },
  {
   "cell_type": "code",
   "execution_count": null,
   "id": "3f76696e",
   "metadata": {},
   "outputs": [],
   "source": []
  }
 ],
 "metadata": {
  "kernelspec": {
   "display_name": "Python 3 (ipykernel)",
   "language": "python",
   "name": "python3"
  },
  "language_info": {
   "codemirror_mode": {
    "name": "ipython",
    "version": 3
   },
   "file_extension": ".py",
   "mimetype": "text/x-python",
   "name": "python",
   "nbconvert_exporter": "python",
   "pygments_lexer": "ipython3",
   "version": "3.9.7"
  },
  "toc": {
   "base_numbering": 1,
   "nav_menu": {},
   "number_sections": true,
   "sideBar": true,
   "skip_h1_title": false,
   "title_cell": "Table of Contents",
   "title_sidebar": "Contents",
   "toc_cell": false,
   "toc_position": {},
   "toc_section_display": true,
   "toc_window_display": false
  },
  "varInspector": {
   "cols": {
    "lenName": 16,
    "lenType": 16,
    "lenVar": 40
   },
   "kernels_config": {
    "python": {
     "delete_cmd_postfix": "",
     "delete_cmd_prefix": "del ",
     "library": "var_list.py",
     "varRefreshCmd": "print(var_dic_list())"
    },
    "r": {
     "delete_cmd_postfix": ") ",
     "delete_cmd_prefix": "rm(",
     "library": "var_list.r",
     "varRefreshCmd": "cat(var_dic_list()) "
    }
   },
   "types_to_exclude": [
    "module",
    "function",
    "builtin_function_or_method",
    "instance",
    "_Feature"
   ],
   "window_display": false
  }
 },
 "nbformat": 4,
 "nbformat_minor": 5
}
