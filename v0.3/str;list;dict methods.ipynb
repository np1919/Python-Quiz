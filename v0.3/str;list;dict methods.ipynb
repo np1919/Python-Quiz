{
 "cells": [
  {
   "cell_type": "code",
   "execution_count": null,
   "id": "b624aae6",
   "metadata": {},
   "outputs": [],
   "source": []
  },
  {
   "cell_type": "code",
   "execution_count": null,
   "id": "4ea6f20a",
   "metadata": {},
   "outputs": [],
   "source": []
  },
  {
   "cell_type": "code",
   "execution_count": null,
   "id": "87373690",
   "metadata": {},
   "outputs": [],
   "source": []
  },
  {
   "cell_type": "code",
   "execution_count": null,
   "id": "e2c22ad4",
   "metadata": {},
   "outputs": [],
   "source": []
  },
  {
   "cell_type": "code",
   "execution_count": null,
   "id": "655d9134",
   "metadata": {},
   "outputs": [],
   "source": []
  },
  {
   "cell_type": "markdown",
   "id": "dfad137d",
   "metadata": {},
   "source": [
    "# `str` Methods"
   ]
  },
  {
   "cell_type": "markdown",
   "id": "6ff10a0d",
   "metadata": {},
   "source": [
    "To provide basic function:purpose games for basic python data types"
   ]
  },
  {
   "cell_type": "markdown",
   "id": "bb0dafd9",
   "metadata": {},
   "source": [
    "stuff like __init__ and __name__ might seem intimidating at first; but they look like that on purpose.\n",
    "don't worry about them, you don't have to define them or use them at all.\n",
    "but at the end of the day, they're simply functions which operate (based) on the attributes of the class;\n",
    "basically they simply create it, destroy it, define it's equivalency (for sorting), and what it looks like as a string.\n",
    "\n",
    "They're like hidden background functions, which define an object's creation and deletion. Additionally you can define your own functions and properties in a class, which allows you to calculate a value based on other (potentially 'hidden') attributes that it contains (potentially assigned during the __init__ step; or incremented/assigned/changed by use of a class function which operates on `self`).\n"
   ]
  },
  {
   "cell_type": "code",
   "execution_count": 2,
   "id": "98eebce3",
   "metadata": {},
   "outputs": [],
   "source": [
    "import random\n",
    "import pprint\n",
    "\n",
    "str_methods = r\"\"\"[split, strip, zfill, join, capitalize, casefold, upper, lower, index, count, replace, startswith, isalnum, isnumeric, isalpha, isascii]\"\"\"\n",
    "\n",
    "# the above is a string, so we can clean it before splitting.\n",
    "# after we split, we want to interpret each value in the resulting list; to strip() any whitespace away from the str elements of that list.\n",
    "str_methods = [x.strip() for x in str_methods.lstrip('[').rstrip(']').split(',')]\n",
    "\n",
    "str_definitions = [\"split the string at any occurrences the given character sequence, for example whitespace or commas.\"\n",
    ",\"strip away any occurrences of the given character sequence from the both sides of the string.\"\n",
    ",\"pass an int to 'fill' string with 0s; to maintain string length consistency when working with numeric values\"\n",
    ",\"pass an iterable to be joined together using the calling string as separator; like 'collapse' in R\"\n",
    ",\"capitalize the first character in the string\"\n",
    ",\"fold all character values (to lower case)\"\n",
    ",\"capitalize each character in the string\"\n",
    ",\"turn each character in the string to lowercase\"\n",
    ",\"return the lowest index (int) in the string for the given sub-string\"\n",
    ",\"return the count (int) of occurrences of a given sub-string\"\n",
    ",\"replace the given pattern in the string with the replacement pattern\"\n",
    ",\"return a boolean value indicating whether the string begins with the given string\"\n",
    ",\"indicate whether the calling string is composed entirely of alphabetical or numeric characters\"\n",
    ",\"indicate whether the calling string is composed entirely of numeric characters\"\n",
    ",\"indicate whether the calling string is composed entirely of alphabetical characters\"\n",
    ",\"indicate whether the calling string is composed entirely of ascii characters\"]\n",
    "\n",
    "str_questions_with_context = {'.split': 'split the string at any occurrences the given character sequence, for example whitespace or commas.',\n",
    " '.strip(\"\")': 'strip away any occurrences of the given character sequence from the both sides of the string.',\n",
    " '.zfill(12)': \"pass an int to 'fill' string with 0s; to maintain string length consistency when working with numeric values\",\n",
    " '\",\".join([])': \"pass an iterable to be joined together using the calling string as separator; like 'collapse' in R\",\n",
    " '.capitalize()': 'capitalize the first character in the string',\n",
    " '.casefold()': 'fold all character values (to lower case)',\n",
    " '.upper()': 'capitalize each character in the string',\n",
    " '.lower()': 'turn each character in the string to lowercase',\n",
    " '.index(\"\")': 'return the lowest index (int) in the string for the given sub-string',\n",
    " '.count(\"\")': 'return the count (int) of occurrences of a given sub-string',\n",
    " '.replace(\"\")': 'replace the given pattern in the string with the replacement pattern',\n",
    " '.startswith()': 'return a boolean value indicating whether the string begins with the given string',\n",
    " '.isalnum()': 'indicate whether the calling string is composed entirely of alphabetical and numeric characters',\n",
    " '.isnumeric()': 'indicate whether the calling string is composed entirely of numeric characters',\n",
    " '.isalpha()': 'indicate whether the calling string is composed entirely of alphabetical characters',\n",
    " '.isascii()': 'indicate whether the calling string is composed entirely of ascii characters'}\n",
    "\n",
    "str_methods_dict = {'split': 'split the string at any occurrences the given character sequence, for example whitespace or commas.',\n",
    " 'strip': 'strip away any occurrences of the given character sequence from the both sides of the string.',\n",
    " 'zfill': \"pass an int to 'fill' string with 0s; to maintain string length consistency when working with numeric values\",\n",
    " 'join': \"pass an iterable to be joined together using the calling string as separator; like 'collapse' in R\",\n",
    " 'capitalize': 'capitalize the first character in the string',\n",
    " 'casefold': 'fold all character values (to lower case)',\n",
    " 'upper': 'capitalize each character in the string',\n",
    " 'lower': 'turn each character in the string to lowercase',\n",
    " 'index': 'return the lowest index (int) in the string for the given sub-string',\n",
    " 'count': 'return the count (int) of occurrences of a given sub-string',\n",
    " 'replace': 'replace the given pattern in the string with the replacement pattern',\n",
    " 'startswith': 'return a boolean value indicating whether the string begins with the given string',\n",
    " 'isnumeric': 'indicate whether the calling string is composed entirely of numeric characters',\n",
    " 'isalpha': 'indicate whether the calling string is composed entirely of alphabetical characters',\n",
    " 'isalnum': 'indicate whether the calling string is composed entirely of alphabetical and numeric characters',\n",
    " 'isascii': 'indicate whether the calling string is composed entirely of ascii characters'}"
   ]
  },
  {
   "cell_type": "markdown",
   "id": "621644c0",
   "metadata": {},
   "source": [
    "# `list` Methods"
   ]
  },
  {
   "cell_type": "markdown",
   "id": "38d42dd1",
   "metadata": {},
   "source": [
    "the methods of the list class, specifically, are below. remember that there are other built-in functions which Operate on these basic data types; but we're keeping things simple to start."
   ]
  },
  {
   "cell_type": "code",
   "execution_count": 3,
   "id": "6dd89caf",
   "metadata": {
    "scrolled": true
   },
   "outputs": [
    {
     "data": {
      "text/plain": [
       "mappingproxy({'__repr__': <slot wrapper '__repr__' of 'list' objects>,\n",
       "              '__hash__': None,\n",
       "              '__getattribute__': <slot wrapper '__getattribute__' of 'list' objects>,\n",
       "              '__lt__': <slot wrapper '__lt__' of 'list' objects>,\n",
       "              '__le__': <slot wrapper '__le__' of 'list' objects>,\n",
       "              '__eq__': <slot wrapper '__eq__' of 'list' objects>,\n",
       "              '__ne__': <slot wrapper '__ne__' of 'list' objects>,\n",
       "              '__gt__': <slot wrapper '__gt__' of 'list' objects>,\n",
       "              '__ge__': <slot wrapper '__ge__' of 'list' objects>,\n",
       "              '__iter__': <slot wrapper '__iter__' of 'list' objects>,\n",
       "              '__init__': <slot wrapper '__init__' of 'list' objects>,\n",
       "              '__len__': <slot wrapper '__len__' of 'list' objects>,\n",
       "              '__getitem__': <method '__getitem__' of 'list' objects>,\n",
       "              '__setitem__': <slot wrapper '__setitem__' of 'list' objects>,\n",
       "              '__delitem__': <slot wrapper '__delitem__' of 'list' objects>,\n",
       "              '__add__': <slot wrapper '__add__' of 'list' objects>,\n",
       "              '__mul__': <slot wrapper '__mul__' of 'list' objects>,\n",
       "              '__rmul__': <slot wrapper '__rmul__' of 'list' objects>,\n",
       "              '__contains__': <slot wrapper '__contains__' of 'list' objects>,\n",
       "              '__iadd__': <slot wrapper '__iadd__' of 'list' objects>,\n",
       "              '__imul__': <slot wrapper '__imul__' of 'list' objects>,\n",
       "              '__new__': <function list.__new__(*args, **kwargs)>,\n",
       "              '__reversed__': <method '__reversed__' of 'list' objects>,\n",
       "              '__sizeof__': <method '__sizeof__' of 'list' objects>,\n",
       "              'clear': <method 'clear' of 'list' objects>,\n",
       "              'copy': <method 'copy' of 'list' objects>,\n",
       "              'append': <method 'append' of 'list' objects>,\n",
       "              'insert': <method 'insert' of 'list' objects>,\n",
       "              'extend': <method 'extend' of 'list' objects>,\n",
       "              'pop': <method 'pop' of 'list' objects>,\n",
       "              'remove': <method 'remove' of 'list' objects>,\n",
       "              'index': <method 'index' of 'list' objects>,\n",
       "              'count': <method 'count' of 'list' objects>,\n",
       "              'reverse': <method 'reverse' of 'list' objects>,\n",
       "              'sort': <method 'sort' of 'list' objects>,\n",
       "              '__class_getitem__': <method '__class_getitem__' of 'list' objects>,\n",
       "              '__doc__': 'Built-in mutable sequence.\\n\\nIf no argument is given, the constructor creates a new empty list.\\nThe argument must be an iterable if specified.'})"
      ]
     },
     "execution_count": 3,
     "metadata": {},
     "output_type": "execute_result"
    }
   ],
   "source": [
    "list.__dict__ \n"
   ]
  },
  {
   "cell_type": "code",
   "execution_count": 4,
   "id": "ceb023e9",
   "metadata": {},
   "outputs": [],
   "source": [
    "lst = [1,2,3]"
   ]
  },
  {
   "cell_type": "code",
   "execution_count": 5,
   "id": "25ef2c79",
   "metadata": {},
   "outputs": [],
   "source": [
    "lst.sort()"
   ]
  },
  {
   "cell_type": "code",
   "execution_count": 6,
   "id": "c8693614",
   "metadata": {
    "scrolled": true
   },
   "outputs": [],
   "source": [
    "list_methods = ['clear', 'copy', 'append', 'insert', 'extend', 'pop', 'remove', 'index', 'count', 'reverse', 'sort']"
   ]
  },
  {
   "cell_type": "code",
   "execution_count": 7,
   "id": "e5eb0470",
   "metadata": {},
   "outputs": [],
   "source": [
    "list_method_definitions = [\"remove all items from the list, in place.\"\n",
    ",\"create a 'shallow copy' of the list. This creates a new pointer, but references the same things as in the original (creates a new list).\"\n",
    ",\"append a single object to the list, in place.\"\n",
    ",\"insert an object into the list at the given (numeric) index.\"\n",
    ",\"extend the list by appending all items from the given iterable.\"\n",
    ",\"pop the item at the given index, in place. note: This method both returns the popped value, and removes it from the list.\"\n",
    ",\"remove the first occurrence of the singular given value from the list. Errors if the value is not found.\"\n",
    ",\"find the (numeric) index of the given item in the list. Errors if the value is not found.\"\n",
    ",\"count the instances of the given element in the list. returns int.\"\n",
    ",\"reverse the indexing of the list, in place. (using the slicing idiom list[::-1] returns the reversed list; this method operates in place.)\"\n",
    ",\"sort the list in ascending order, in place. note: pass the keyword argument `reverse=True` to switch the order.\"]"
   ]
  },
  {
   "cell_type": "code",
   "execution_count": 8,
   "id": "4b755446",
   "metadata": {},
   "outputs": [],
   "source": [
    "list_methods_dict = dict(zip(list_methods, list_method_definitions))"
   ]
  },
  {
   "cell_type": "code",
   "execution_count": 9,
   "id": "c7a5c9b7",
   "metadata": {},
   "outputs": [
    {
     "data": {
      "text/plain": [
       "{'clear': 'remove all items from the list, in place.',\n",
       " 'copy': \"create a 'shallow copy' of the list. This creates a new pointer, but references the same things as in the original (creates a new list).\",\n",
       " 'append': 'append a single object to the list, in place.',\n",
       " 'insert': 'insert an object into the list at the given (numeric) index.',\n",
       " 'extend': 'extend the list by appending all items from the given iterable.',\n",
       " 'pop': 'pop the item at the given index, in place. note: This method both returns the popped value, and removes it from the list.',\n",
       " 'remove': 'remove the first occurrence of the singular given value from the list. Errors if the value is not found.',\n",
       " 'index': 'find the (numeric) index of the given item in the list. Errors if the value is not found.',\n",
       " 'count': 'count the instances of the given element in the list. returns int.',\n",
       " 'reverse': 'reverse the indexing of the list, in place. (using the slicing idiom list[::-1] returns the reversed list; this method operates in place.)',\n",
       " 'sort': 'sort the list in ascending order, in place. note: pass the keyword argument `reverse=True` to switch the order.'}"
      ]
     },
     "execution_count": 9,
     "metadata": {},
     "output_type": "execute_result"
    }
   ],
   "source": [
    "list_methods_dict"
   ]
  },
  {
   "cell_type": "markdown",
   "id": "b7cbe659",
   "metadata": {},
   "source": [
    "# Creating a working game (script) from `str_methods_dict`"
   ]
  },
  {
   "cell_type": "code",
   "execution_count": 10,
   "id": "087c4c5f",
   "metadata": {},
   "outputs": [],
   "source": [
    "import random\n",
    "import pprint"
   ]
  },
  {
   "cell_type": "code",
   "execution_count": 11,
   "id": "bee00c66",
   "metadata": {},
   "outputs": [],
   "source": [
    "def str_methods_names(this_type=str):\n",
    "    str_methods_dict = {'split': 'split the string at any occurrences the given character sequence, for example whitespace or commas.',\n",
    "     'strip': 'strip away any occurrences of the given character sequence from the both sides of the string.',\n",
    "     'zfill': \"pass an int to 'fill' string with 0s; to maintain string length consistency when working with numeric values\",\n",
    "     'join': \"pass an iterable to be joined together using the calling string as separator; like 'collapse' in R\",\n",
    "     'capitalize': 'capitalize the first character in the string',\n",
    "     'casefold': 'fold all character values (to lower case)',\n",
    "     'upper': 'capitalize each character in the string',\n",
    "     'lower': 'turn each character in the string to lowercase',\n",
    "     'index': 'return the lowest index (int) in the string for the given sub-string',\n",
    "     'count': 'return the count (int) of occurrences of a given sub-string',\n",
    "     'replace': 'replace the given pattern in the string with the replacement pattern',\n",
    "     'startswith': 'return a boolean value indicating whether the string begins with the given string',\n",
    "     'isnumeric': 'indicate whether the calling string is composed entirely of alphabetical characters',\n",
    "     'isalpha': 'indicate whether the calling string is composed entirely of alphabetical characters',\n",
    "     'isalnum': 'indicate whether the calling string is composed entirely of alphabetical and numeric characters',\n",
    "     'isascii': 'indicate whether the calling string is composed entirely of ascii characters'}\n",
    "    # give 4 keys; 1 definition\n",
    "    response = ''\n",
    "    while response != 'quit':\n",
    "        options = []\n",
    "        while len(options) < 4:\n",
    "            new_q = random.choice([x for x in str_methods_dict.keys()])\n",
    "            if new_q not in options:\n",
    "                options.append(new_q) \n",
    "\n",
    "        correct_key = random.choice(options)\n",
    "        random_question = str_methods_dict[correct_key]\n",
    "\n",
    "        choices = dict(zip('abcd',options))\n",
    "        print(f\"Which of the following `{this_type.__name__}` methods does the following?\")\n",
    "        pprint.pprint(choices)\n",
    "\n",
    "        response = input(f\"{random_question} \")\n",
    "\n",
    "        try:\n",
    "            if choices[response] == correct_key:\n",
    "                print('You Win!')\n",
    "        except:\n",
    "            pass\n",
    "    #     if response == random_answer:\n",
    "    #         print('You Win!')\n",
    "    \n",
    "    \n",
    "def str_methods_definitions(this_type=str):\n",
    "    str_methods_dict = {'split': 'split the string at any occurrences the given character sequence, for example whitespace or commas.',\n",
    "     'strip': 'strip away any occurrences of the given character sequence from the both sides of the string.',\n",
    "     'zfill': \"pass an int to 'fill' string with 0s; to maintain string length consistency when working with numeric values\",\n",
    "     'join': \"pass an iterable to be joined together using the calling string as separator; like 'collapse' in R\",\n",
    "     'capitalize': 'capitalize the first character in the string',\n",
    "     'casefold': 'fold all character values (to lower case)',\n",
    "     'upper': 'capitalize each character in the string',\n",
    "     'lower': 'turn each character in the string to lowercase',\n",
    "     'index': 'return the lowest index (int) in the string for the given sub-string',\n",
    "     'count': 'return the count (int) of occurrences of a given sub-string',\n",
    "     'replace': 'replace the given pattern in the string with the replacement pattern',\n",
    "     'startswith': 'return a boolean value indicating whether the string begins with the given string',\n",
    "     'isnumeric': 'indicate whether the calling string is composed entirely of alphabetical characters',\n",
    "     'isalpha': 'indicate whether the calling string is composed entirely of alphabetical characters',\n",
    "     'isalnum': 'indicate whether the calling string is composed entirely of alphabetical and numeric characters',\n",
    "     'isascii': 'indicate whether the calling string is composed entirely of ascii characters'}\n",
    "    # give 4 keys; 1 definition\n",
    "    response = ''\n",
    "    while response != 'quit':\n",
    "        keys=[]\n",
    "        options = []\n",
    "        while len(options) < 4:\n",
    "            key = random.choice([x for x in str_methods_dict.keys()])\n",
    "            value = str_methods_dict[key]\n",
    "            if value not in options:\n",
    "                options.append(value) \n",
    "                keys.append(key)\n",
    "                \n",
    "        choices = dict(zip('abcd',options))\n",
    "        \n",
    "        my_answer = random.choice(random.choice([x for x in choices.keys()]))\n",
    "        answer_index = [x for x in choices.keys()].index(my_answer)\n",
    "        my_key = keys[answer_index]\n",
    "        my_definition = choices[my_answer]\n",
    "        \n",
    "        \n",
    "        pprint.pprint(choices)\n",
    "        print(f\"Which of the `{this_type.__name__} method definitions belongs to: {my_key} ?\")\n",
    "        response = input(f\"\")\n",
    "\n",
    "        try:\n",
    "            if choices[response] == my_definition:\n",
    "                pprint.pprint('You Win!')\n",
    "        except:\n",
    "            pass\n",
    "    #     if response == random_answer:\n",
    "    #         print('You Win!')\n",
    "    \n",
    "     \n",
    "        # give 4 definitions; 1 key\n"
   ]
  },
  {
   "cell_type": "code",
   "execution_count": 12,
   "id": "79fd7f82",
   "metadata": {},
   "outputs": [
    {
     "name": "stdout",
     "output_type": "stream",
     "text": [
      "{'a': 'replace the given pattern in the string with the replacement pattern',\n",
      " 'b': 'capitalize the first character in the string',\n",
      " 'c': 'strip away any occurrences of the given character sequence from the '\n",
      "      'both sides of the string.',\n",
      " 'd': 'indicate whether the calling string is composed entirely of '\n",
      "      'alphabetical characters'}\n",
      "Which of the `str method definitions belongs to: isalpha ?\n",
      "quit\n"
     ]
    }
   ],
   "source": [
    "str_methods_definitions()"
   ]
  },
  {
   "cell_type": "code",
   "execution_count": 12,
   "id": "c59d7387",
   "metadata": {},
   "outputs": [
    {
     "name": "stdout",
     "output_type": "stream",
     "text": [
      "Which of the following `str` methods does the following?\n",
      "{'a': 'zfill', 'b': 'split', 'c': 'strip', 'd': 'count'}\n",
      "strip away any occurrences of the given character sequence from the both sides of the string. \n",
      "Which of the following `str` methods does the following?\n",
      "{'a': 'count', 'b': 'isalpha', 'c': 'startswith', 'd': 'isascii'}\n",
      "indicate whether the calling string is composed entirely of alphabetical characters quit\n"
     ]
    }
   ],
   "source": [
    "str_methods_names()"
   ]
  },
  {
   "cell_type": "code",
   "execution_count": null,
   "id": "073e6642",
   "metadata": {},
   "outputs": [],
   "source": []
  },
  {
   "cell_type": "markdown",
   "id": "ed602080",
   "metadata": {},
   "source": [
    "# Abstracting the process"
   ]
  },
  {
   "cell_type": "markdown",
   "id": "f6ddc13d",
   "metadata": {},
   "source": [
    "By this point, we can see that we need a structure which accepts a mapping dictionary and asks a singular, multiple choice question based on that mapping. We should have it be reversible, such as to question the user on both keys and values, so to speak."
   ]
  },
  {
   "cell_type": "code",
   "execution_count": 13,
   "id": "e7844a7e",
   "metadata": {},
   "outputs": [],
   "source": [
    "import random\n",
    "import pprint"
   ]
  },
  {
   "cell_type": "code",
   "execution_count": 14,
   "id": "f7a083e3",
   "metadata": {},
   "outputs": [
    {
     "data": {
      "text/plain": [
       "{'clear': 'remove all items from the list, in place.',\n",
       " 'copy': \"create a 'shallow copy' of the list. This creates a new pointer, but references the same things as in the original (creates a new list).\",\n",
       " 'append': 'append a single object to the list, in place.',\n",
       " 'insert': 'insert an object into the list at the given (numeric) index.',\n",
       " 'extend': 'extend the list by appending all items from the given iterable.',\n",
       " 'pop': 'pop the item at the given index, in place. note: This method both returns the popped value, and removes it from the list.',\n",
       " 'remove': 'remove the first occurrence of the singular given value from the list. Errors if the value is not found.',\n",
       " 'index': 'find the (numeric) index of the given item in the list. Errors if the value is not found.',\n",
       " 'count': 'count the instances of the given element in the list. returns int.',\n",
       " 'reverse': 'reverse the indexing of the list, in place. (using the slicing idiom list[::-1] returns the reversed list; this method operates in place.)',\n",
       " 'sort': 'sort the list in ascending order, in place. note: pass the keyword argument `reverse=True` to switch the order.'}"
      ]
     },
     "execution_count": 14,
     "metadata": {},
     "output_type": "execute_result"
    }
   ],
   "source": [
    "list_methods_dict"
   ]
  },
  {
   "cell_type": "code",
   "execution_count": 26,
   "id": "84bcd5de",
   "metadata": {},
   "outputs": [],
   "source": []
  },
  {
   "cell_type": "code",
   "execution_count": 23,
   "id": "082daadf",
   "metadata": {
    "scrolled": true
   },
   "outputs": [
    {
     "data": {
      "text/plain": [
       "{'split': 'split the string at any occurrences the given character sequence, for example whitespace or commas.',\n",
       " 'strip': 'strip away any occurrences of the given character sequence from the both sides of the string.',\n",
       " 'zfill': \"pass an int to 'fill' string with 0s; to maintain string length consistency when working with numeric values\",\n",
       " 'join': \"pass an iterable to be joined together using the calling string as separator; like 'collapse' in R\",\n",
       " 'capitalize': 'capitalize the first character in the string',\n",
       " 'casefold': 'fold all character values (to lower case)',\n",
       " 'upper': 'capitalize each character in the string',\n",
       " 'lower': 'turn each character in the string to lowercase',\n",
       " 'index': 'return the lowest index (int) in the string for the given sub-string',\n",
       " 'count': 'return the count (int) of occurrences of a given sub-string',\n",
       " 'replace': 'replace the given pattern in the string with the replacement pattern',\n",
       " 'startswith': 'return a boolean value indicating whether the string begins with the given string',\n",
       " 'isnumeric': 'indicate whether the calling string is composed entirely of numeric characters',\n",
       " 'isalpha': 'indicate whether the calling string is composed entirely of alphabetical characters',\n",
       " 'isalnum': 'indicate whether the calling string is composed entirely of alphabetical and numeric characters',\n",
       " 'isascii': 'indicate whether the calling string is composed entirely of ascii characters'}"
      ]
     },
     "execution_count": 23,
     "metadata": {},
     "output_type": "execute_result"
    }
   ],
   "source": [
    "str_methods_dict"
   ]
  },
  {
   "cell_type": "code",
   "execution_count": 24,
   "id": "cb4cb1b9",
   "metadata": {},
   "outputs": [
    {
     "data": {
      "text/plain": [
       "{'clear': 'remove all items from the list, in place.',\n",
       " 'copy': \"create a 'shallow copy' of the list. This creates a new pointer, but references the same things as in the original (creates a new list).\",\n",
       " 'append': 'append a single object to the list, in place.',\n",
       " 'insert': 'insert an object into the list at the given (numeric) index.',\n",
       " 'extend': 'extend the list by appending all items from the given iterable.',\n",
       " 'pop': 'pop the item at the given index, in place. note: This method both returns the popped value, and removes it from the list.',\n",
       " 'remove': 'remove the first occurrence of the singular given value from the list. Errors if the value is not found.',\n",
       " 'index': 'find the (numeric) index of the given item in the list. Errors if the value is not found.',\n",
       " 'count': 'count the instances of the given element in the list. returns int.',\n",
       " 'reverse': 'reverse the indexing of the list, in place. (using the slicing idiom list[::-1] returns the reversed list; this method operates in place.)',\n",
       " 'sort': 'sort the list in ascending order, in place. note: pass the keyword argument `reverse=True` to switch the order.'}"
      ]
     },
     "execution_count": 24,
     "metadata": {},
     "output_type": "execute_result"
    }
   ],
   "source": [
    "list_methods_dict"
   ]
  },
  {
   "cell_type": "code",
   "execution_count": 25,
   "id": "400113ca",
   "metadata": {},
   "outputs": [
    {
     "data": {
      "text/plain": [
       "{'get': 'return the value from the dictionary using the given key. note: pass an additional argument to assign a default return value (currently `None`)',\n",
       " 'setdefault': \"create a location in the dictionary using the given key, if there wasn't one before -- if there was, return that value. note: pass an additional argument to assign a (default) value to the slot (currently `None`).\",\n",
       " 'pop': 'pop the item at the given key from the dictionary. this method both removes the item (and key) from the dictionary, while also returning the value that was stored there.',\n",
       " 'popitem': 'pop both the key and the value from the dictionary, as a tuple. this method removes the pair from the dictionary in an immutable format, while simultaneously returning it (for potential variable assignment)',\n",
       " 'keys': \"return a `view` (not a list) of the dictionary's index -- it's keys.\",\n",
       " 'items': \"return a `view` (not a list) of the dictionary's (key:value) pairs (they're returned as tuples, and need to be re-mapped to dict.)\",\n",
       " 'values': \"return a `view` (not a list) of the dictionary's stored values.\",\n",
       " 'update': 'update the dictionary with a new key/value pairing. You can (re-)assign new values to a dictionary with simple bracket indexing -- this is an advanced function.',\n",
       " 'fromkeys': 'called from the base class, `dict`, this function returns a dictionary with a key for each item in the given iterable.',\n",
       " 'clear': 'clear all elements from the data container.',\n",
       " 'copy': \"create a 'shallow copy' of the dict. this creates a new pointer, which references the underlying objects in the first dict directly. we know that all the keys of the dict are immutable.\"}"
      ]
     },
     "execution_count": 25,
     "metadata": {},
     "output_type": "execute_result"
    }
   ],
   "source": [
    "dict_methods_dict"
   ]
  },
  {
   "cell_type": "code",
   "execution_count": 15,
   "id": "4ec9802e",
   "metadata": {},
   "outputs": [],
   "source": [
    "def generate_multiple_choice(mapping, objective, this_type=str):\n",
    "    \n",
    "    assert isinstance(mapping, dict), 'mapping must be a dict' \n",
    "    assert objective in ['key', 'value'], 'objective must be key or value'\n",
    "    \n",
    "    number_of_options = 4\n",
    "    #### MAIN LOOP ####\n",
    "    \n",
    "    ### 4 definitions, 1 key;\n",
    "    response = ''\n",
    "    while response != 'quit':\n",
    "        \n",
    "        if objective == 'key':\n",
    "            options = []\n",
    "\n",
    "            ### ensure the 4 options are distinct\n",
    "            while len(options) < number_of_options:\n",
    "                # pick a question from the available mapping\n",
    "                new_q = random.choice([x for x in mapping.keys()])\n",
    "                # if we don't have it already, add the key to the list\n",
    "                if new_q not in options:\n",
    "                    options.append(new_q) \n",
    "            \n",
    "            # pick the right answer first\n",
    "            correct_key = random.choice(options)\n",
    "            # then define it's value, to check our response\n",
    "            random_question = mapping[correct_key]\n",
    "            \n",
    "            # create a question format dictionary\n",
    "            choices = dict(zip('abcdefghijkl',options))           \n",
    "            # since these are all basic python data types, we know they have .__name__ attributes.\n",
    "                # in this case, the `keys` are all pre-defined class functions; reserved names (inside the class scope).\n",
    "                # stuff like __init__ and __name__ might seem intimidating at first; but they look like that on purpose.\n",
    "                # don't worry about them, you don't have to define them or use them at all.\n",
    "                # but at the end of the day, they're simply functions which operate (based) on the attributes of the class;\n",
    "                # basically they simply create it, destroy it, define it's equivalency (for sorting), what it looks like as a string.\n",
    "                    # additionally you can define your own properties, which allows you to calculate a value based on other (potentially 'hidden') attributes.\n",
    "                    \n",
    "            print(f\"Which of the following `{this_type.__name__}` methods does the following?\")\n",
    "            pprint.pprint([choices])\n",
    "            response = input(f\"{random_question} \")\n",
    "            try:\n",
    "                if choices[response] == correct_key:\n",
    "                    pprint.pprint('**** You Win ****!')\n",
    "            except:\n",
    "                pass\n",
    "\n",
    "\n",
    "\n",
    "        # give 4 keys; 1 definition        \n",
    "        elif objective == 'value':\n",
    "            keys=[]\n",
    "            options = []\n",
    "            while len(options) < 4:\n",
    "                key = random.choice([x for x in mapping.keys()])\n",
    "                value = mapping[key]\n",
    "                if value not in options:\n",
    "                    options.append(value) \n",
    "                    keys.append(key)\n",
    "\n",
    "            choices = dict(zip('abcdefghijkl',options))\n",
    "            my_answer = random.choice(random.choice([x for x in choices.keys()]))\n",
    "            answer_index = [x for x in choices.keys()].index(my_answer)\n",
    "            my_key = keys[answer_index]\n",
    "            my_definition = choices[my_answer]\n",
    "            pprint.pprint([choices])\n",
    "            print()\n",
    "            print(f\"Which of the `{this_type.__name__} method definitions belongs to: {my_key} ?\")\n",
    "            response = input(f\"\")\n",
    "\n",
    "            try:\n",
    "                if choices[response] == my_definition:\n",
    "                    pprint.pprint('**** You Win ****!')\n",
    "                    print()\n",
    "            except:\n",
    "                pass"
   ]
  },
  {
   "cell_type": "code",
   "execution_count": 16,
   "id": "de3a8fc1",
   "metadata": {},
   "outputs": [
    {
     "name": "stdout",
     "output_type": "stream",
     "text": [
      "[{'a': 'remove the first occurrence of the singular given value from the list. '\n",
      "       'Errors if the value is not found.',\n",
      "  'b': 'pop the item at the given index, in place. note: This method both '\n",
      "       'returns the popped value, and removes it from the list.',\n",
      "  'c': 'count the instances of the given element in the list. returns int.',\n",
      "  'd': \"create a 'shallow copy' of the list. This creates a new pointer, but \"\n",
      "       'references the same things as in the original (creates a new list).'}]\n",
      "\n",
      "Which of the `list method definitions belongs to: copy ?\n",
      "quit\n"
     ]
    }
   ],
   "source": [
    "generate_multiple_choice(list_methods_dict, objective='value', this_type=list)"
   ]
  },
  {
   "cell_type": "code",
   "execution_count": 17,
   "id": "f74d6e8f",
   "metadata": {},
   "outputs": [
    {
     "name": "stdout",
     "output_type": "stream",
     "text": [
      "Which of the following `str` methods does the following?\n",
      "[{'a': 'join', 'b': 'isalpha', 'c': 'count', 'd': 'isnumeric'}]\n",
      "return the count (int) of occurrences of a given sub-string \n",
      "Which of the following `str` methods does the following?\n",
      "[{'a': 'isnumeric', 'b': 'casefold', 'c': 'strip', 'd': 'isascii'}]\n",
      "indicate whether the calling string is composed entirely of ascii characters quit\n"
     ]
    }
   ],
   "source": [
    "generate_multiple_choice(str_methods_dict, objective='key', this_type = str)"
   ]
  },
  {
   "cell_type": "markdown",
   "id": "afab6049",
   "metadata": {},
   "source": [
    "# `dict` Methods"
   ]
  },
  {
   "cell_type": "markdown",
   "id": "f3fd360e",
   "metadata": {},
   "source": [
    "dictionaries work using key:value pairs. One index (or key), one value. It's important to have practice with base python dictionaries before moving into pandas."
   ]
  },
  {
   "cell_type": "code",
   "execution_count": 18,
   "id": "a41e23bc",
   "metadata": {},
   "outputs": [],
   "source": [
    "dict_methods = ['get', 'setdefault', 'pop', 'popitem', 'keys', 'items', 'values', 'update', 'fromkeys', 'clear', 'copy']"
   ]
  },
  {
   "cell_type": "code",
   "execution_count": 19,
   "id": "3db3a340",
   "metadata": {},
   "outputs": [],
   "source": [
    "dict_definitions = ['return the value from the dictionary using the given key. note: pass an additional argument to assign a default return value (currently `None`)'\n",
    ",\"create a location in the dictionary using the given key, if there wasn't one before -- if there was, return that value. note: pass an additional argument to assign a (default) value to the slot (currently `None`).\"\n",
    ",\"pop the item at the given key from the dictionary. this method both removes the item (and key) from the dictionary, while also returning the value that was stored there.\"\n",
    ",\"pop both the key and the value from the dictionary, as a tuple. this method removes the pair from the dictionary in an immutable format, while simultaneously returning it (for potential variable assignment)\"\n",
    ",\"return a `view` (not a list) of the dictionary's index -- it's keys.\"\n",
    ",\"return a `view` (not a list) of the dictionary's (key:value) pairs (they're returned as tuples, and need to be re-mapped to dict.)\"\n",
    ",\"return a `view` (not a list) of the dictionary's stored values.\"\n",
    ",\"update the dictionary with a new key/value pairing. You can (re-)assign new values to a dictionary with simple bracket indexing -- this is an advanced function.\"\n",
    ",\"called from the base class, `dict`, this function returns a dictionary with a key for each item in the given iterable.\"\n",
    ",\"clear all elements from the data container.\"\n",
    ",\"create a 'shallow copy' of the dict. this creates a new pointer, which references the underlying objects in the first dict directly. we know that all the keys of the dict are immutable.\"\n",
    ",]"
   ]
  },
  {
   "cell_type": "code",
   "execution_count": 20,
   "id": "0d7bb048",
   "metadata": {},
   "outputs": [],
   "source": [
    "dict_methods_dict = dict(zip(dict_methods, dict_definitions))"
   ]
  },
  {
   "cell_type": "code",
   "execution_count": 21,
   "id": "c5ddef57",
   "metadata": {},
   "outputs": [
    {
     "name": "stdout",
     "output_type": "stream",
     "text": [
      "{'clear': 'clear all elements from the data container.',\n",
      " 'copy': \"create a 'shallow copy' of the dict. this creates a new pointer, \"\n",
      "         'which references the underlying objects in the first dict directly. '\n",
      "         'we know that all the keys of the dict are immutable.',\n",
      " 'fromkeys': 'called from the base class, `dict`, this function returns a '\n",
      "             'dictionary with a key for each item in the given iterable.',\n",
      " 'get': 'return the value from the dictionary using the given key. note: pass '\n",
      "        'an additional argument to assign a default return value (currently '\n",
      "        '`None`)',\n",
      " 'items': \"return a `view` (not a list) of the dictionary's (key:value) pairs \"\n",
      "          \"(they're returned as tuples, and need to be re-mapped to dict.)\",\n",
      " 'keys': \"return a `view` (not a list) of the dictionary's index -- it's keys.\",\n",
      " 'pop': 'pop the item at the given key from the dictionary. this method both '\n",
      "        'removes the item (and key) from the dictionary, while also returning '\n",
      "        'the value that was stored there.',\n",
      " 'popitem': 'pop both the key and the value from the dictionary, as a tuple. '\n",
      "            'this method removes the pair from the dictionary in an immutable '\n",
      "            'format, while simultaneously returning it (for potential variable '\n",
      "            'assignment)',\n",
      " 'setdefault': 'create a location in the dictionary using the given key, if '\n",
      "               \"there wasn't one before -- if there was, return that value. \"\n",
      "               'note: pass an additional argument to assign a (default) value '\n",
      "               'to the slot (currently `None`).',\n",
      " 'update': 'update the dictionary with a new key/value pairing. You can '\n",
      "           '(re-)assign new values to a dictionary with simple bracket '\n",
      "           'indexing -- this is an advanced function.',\n",
      " 'values': \"return a `view` (not a list) of the dictionary's stored values.\"}\n"
     ]
    }
   ],
   "source": [
    "pprint.pprint(dict_methods_dict)"
   ]
  },
  {
   "cell_type": "code",
   "execution_count": 22,
   "id": "963407eb",
   "metadata": {},
   "outputs": [
    {
     "name": "stdout",
     "output_type": "stream",
     "text": [
      "Which of the following `dict` methods does the following?\n",
      "[{'a': 'values', 'b': 'fromkeys', 'c': 'get', 'd': 'items'}]\n",
      "return a `view` (not a list) of the dictionary's stored values. quit\n"
     ]
    }
   ],
   "source": [
    "generate_multiple_choice(dict_methods_dict, objective='key', this_type=dict)"
   ]
  },
  {
   "cell_type": "code",
   "execution_count": null,
   "id": "31743673",
   "metadata": {},
   "outputs": [],
   "source": []
  }
 ],
 "metadata": {
  "kernelspec": {
   "display_name": "Python 3 (ipykernel)",
   "language": "python",
   "name": "python3"
  },
  "language_info": {
   "codemirror_mode": {
    "name": "ipython",
    "version": 3
   },
   "file_extension": ".py",
   "mimetype": "text/x-python",
   "name": "python",
   "nbconvert_exporter": "python",
   "pygments_lexer": "ipython3",
   "version": "3.9.7"
  },
  "toc": {
   "base_numbering": 1,
   "nav_menu": {},
   "number_sections": true,
   "sideBar": true,
   "skip_h1_title": false,
   "title_cell": "Table of Contents",
   "title_sidebar": "Contents",
   "toc_cell": false,
   "toc_position": {},
   "toc_section_display": true,
   "toc_window_display": false
  },
  "varInspector": {
   "cols": {
    "lenName": 16,
    "lenType": 16,
    "lenVar": 40
   },
   "kernels_config": {
    "python": {
     "delete_cmd_postfix": "",
     "delete_cmd_prefix": "del ",
     "library": "var_list.py",
     "varRefreshCmd": "print(var_dic_list())"
    },
    "r": {
     "delete_cmd_postfix": ") ",
     "delete_cmd_prefix": "rm(",
     "library": "var_list.r",
     "varRefreshCmd": "cat(var_dic_list()) "
    }
   },
   "types_to_exclude": [
    "module",
    "function",
    "builtin_function_or_method",
    "instance",
    "_Feature"
   ],
   "window_display": false
  }
 },
 "nbformat": 4,
 "nbformat_minor": 5
}
